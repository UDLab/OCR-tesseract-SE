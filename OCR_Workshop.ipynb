{
  "cells": [
    {
      "cell_type": "markdown",
      "metadata": {
        "id": "f4qFJJ0XX6nw"
      },
      "source": [
        "Welcome to the workshop on Optical Character Recognition (OCR)"
      ]
    },
    {
      "cell_type": "markdown",
      "metadata": {
        "id": "nRnUpKFaW7y0"
      },
      "source": [
        "Before getting started, \n",
        "\n",
        "*   Go to File --> Save a copy in drive. It should open the copied notebook in a new tab.\n",
        "*   Alternatively, go to your Google drive, find the folder \"Colab Notebooks\", open the notebook.\n",
        "\n",
        "Next, download:\n",
        "\n",
        "*   Sample images: https://uppsala.box.com/s/qzvg9741dx915a0atc6mydo8qxgf9erc\n",
        "*   Language models for Swedish (swe), French (fra), Italian (ita) and German (deu): https://uppsala.box.com/s/ovcpsdzj2dlomyghtw7vk50ilvxs3uix"
      ]
    },
    {
      "cell_type": "markdown",
      "metadata": {
        "id": "k4LR0kphaL95"
      },
      "source": [
        "Navigate to the left panel, click the folder icon (\"files\"), click upload (upward arrow icon), and upload images from the downloaded folder, press \"upload\". If a message dialog pops up: click OK.\n"
      ]
    },
    {
      "cell_type": "markdown",
      "metadata": {
        "id": "wKoUERTGilmN"
      },
      "source": [
        "Once again, navigate to the left panel, click on the upward arrow icon, go to /usr/share/tesseract-ocr/4.00/tessdata. Following the three dots, click \"upload\", select the 4 language models to upload. \n",
        "\n",
        "Close (X)"
      ]
    },
    {
      "cell_type": "markdown",
      "metadata": {
        "id": "8gaqa90PaQ9_"
      },
      "source": [
        "Now we are ready to get started! "
      ]
    },
    {
      "cell_type": "code",
      "execution_count": null,
      "metadata": {
        "colab": {
          "base_uri": "https://localhost:8080/",
          "height": 987
        },
        "id": "rkWgTYpsaRQM",
        "outputId": "534587c4-3ec7-4ce4-9b15-9e4e6037ba74"
      },
      "outputs": [
        {
          "output_type": "stream",
          "name": "stdout",
          "text": [
            "Reading package lists... Done\n",
            "Building dependency tree       \n",
            "Reading state information... Done\n",
            "The following package was automatically installed and is no longer required:\n",
            "  libnvidia-common-460\n",
            "Use 'sudo apt autoremove' to remove it.\n",
            "The following additional packages will be installed:\n",
            "  tesseract-ocr-eng tesseract-ocr-osd\n",
            "The following NEW packages will be installed:\n",
            "  tesseract-ocr tesseract-ocr-eng tesseract-ocr-osd\n",
            "0 upgraded, 3 newly installed, 0 to remove and 12 not upgraded.\n",
            "Need to get 4,795 kB of archives.\n",
            "After this operation, 15.8 MB of additional disk space will be used.\n",
            "Get:1 http://archive.ubuntu.com/ubuntu bionic/universe amd64 tesseract-ocr-eng all 4.00~git24-0e00fe6-1.2 [1,588 kB]\n",
            "Get:2 http://archive.ubuntu.com/ubuntu bionic/universe amd64 tesseract-ocr-osd all 4.00~git24-0e00fe6-1.2 [2,989 kB]\n",
            "Get:3 http://archive.ubuntu.com/ubuntu bionic/universe amd64 tesseract-ocr amd64 4.00~git2288-10f4998a-2 [218 kB]\n",
            "Fetched 4,795 kB in 2s (2,741 kB/s)\n",
            "debconf: unable to initialize frontend: Dialog\n",
            "debconf: (No usable dialog-like program is installed, so the dialog based frontend cannot be used. at /usr/share/perl5/Debconf/FrontEnd/Dialog.pm line 76, <> line 3.)\n",
            "debconf: falling back to frontend: Readline\n",
            "debconf: unable to initialize frontend: Readline\n",
            "debconf: (This frontend requires a controlling tty.)\n",
            "debconf: falling back to frontend: Teletype\n",
            "dpkg-preconfigure: unable to re-open stdin: \n",
            "Selecting previously unselected package tesseract-ocr-eng.\n",
            "(Reading database ... 123934 files and directories currently installed.)\n",
            "Preparing to unpack .../tesseract-ocr-eng_4.00~git24-0e00fe6-1.2_all.deb ...\n",
            "Unpacking tesseract-ocr-eng (4.00~git24-0e00fe6-1.2) ...\n",
            "Selecting previously unselected package tesseract-ocr-osd.\n",
            "Preparing to unpack .../tesseract-ocr-osd_4.00~git24-0e00fe6-1.2_all.deb ...\n",
            "Unpacking tesseract-ocr-osd (4.00~git24-0e00fe6-1.2) ...\n",
            "Selecting previously unselected package tesseract-ocr.\n",
            "Preparing to unpack .../tesseract-ocr_4.00~git2288-10f4998a-2_amd64.deb ...\n",
            "Unpacking tesseract-ocr (4.00~git2288-10f4998a-2) ...\n",
            "Setting up tesseract-ocr-osd (4.00~git24-0e00fe6-1.2) ...\n",
            "Setting up tesseract-ocr-eng (4.00~git24-0e00fe6-1.2) ...\n",
            "Setting up tesseract-ocr (4.00~git2288-10f4998a-2) ...\n",
            "Processing triggers for man-db (2.8.3-2ubuntu0.1) ...\n",
            "Looking in indexes: https://pypi.org/simple, https://us-python.pkg.dev/colab-wheels/public/simple/\n",
            "Collecting pytesseract==0.3.9\n",
            "  Downloading pytesseract-0.3.9-py2.py3-none-any.whl (14 kB)\n",
            "Requirement already satisfied: packaging>=21.3 in /usr/local/lib/python3.7/dist-packages (from pytesseract==0.3.9) (21.3)\n",
            "Collecting Pillow>=8.0.0\n",
            "  Downloading Pillow-9.2.0-cp37-cp37m-manylinux_2_17_x86_64.manylinux2014_x86_64.whl (3.1 MB)\n",
            "\u001b[K     |████████████████████████████████| 3.1 MB 7.4 MB/s \n",
            "\u001b[?25hRequirement already satisfied: pyparsing!=3.0.5,>=2.0.2 in /usr/local/lib/python3.7/dist-packages (from packaging>=21.3->pytesseract==0.3.9) (3.0.9)\n",
            "Installing collected packages: Pillow, pytesseract\n",
            "  Attempting uninstall: Pillow\n",
            "    Found existing installation: Pillow 7.1.2\n",
            "    Uninstalling Pillow-7.1.2:\n",
            "      Successfully uninstalled Pillow-7.1.2\n",
            "Successfully installed Pillow-9.2.0 pytesseract-0.3.9\n"
          ]
        },
        {
          "output_type": "display_data",
          "data": {
            "application/vnd.colab-display-data+json": {
              "pip_warning": {
                "packages": [
                  "PIL"
                ]
              }
            }
          },
          "metadata": {}
        }
      ],
      "source": [
        "# Set up for tesseract\n",
        "!sudo apt-get install tesseract-ocr\n",
        "!pip install pytesseract==0.3.9"
      ]
    },
    {
      "cell_type": "markdown",
      "source": [
        "If you see a warning to \"Restart runtime\", click on RESTART RUNTIME."
      ],
      "metadata": {
        "id": "LWFfAGsqzlbM"
      }
    },
    {
      "cell_type": "code",
      "execution_count": null,
      "metadata": {
        "id": "DNTbdL4vW8s6"
      },
      "outputs": [],
      "source": [
        "# Import modules\n",
        "\n",
        "import pytesseract\n",
        "from pytesseract import Output\n",
        "from PIL import Image\n",
        "import cv2"
      ]
    },
    {
      "cell_type": "code",
      "execution_count": null,
      "metadata": {
        "id": "-lhT7cK6dOv0"
      },
      "outputs": [],
      "source": [
        "# To check the location of pytesseract\n",
        "#!pip show pytesseract"
      ]
    },
    {
      "cell_type": "code",
      "execution_count": null,
      "metadata": {
        "colab": {
          "base_uri": "https://localhost:8080/"
        },
        "id": "mgeeK3EYgesv",
        "outputId": "d4f246a1-5b29-4e85-fb72-76d3b5be4394"
      },
      "outputs": [
        {
          "output_type": "stream",
          "name": "stdout",
          "text": [
            "['osd', 'eng']\n"
          ]
        }
      ],
      "source": [
        "# List of available languages\n",
        "print(pytesseract.get_languages(config=''))"
      ]
    },
    {
      "cell_type": "markdown",
      "source": [
        "For example:\n",
        "\n",
        "*   osd: Orientation and script detection module\n",
        "*   ita: Italian\n",
        "*   deu: German\n",
        "*   fra: France\n",
        "*   swe: Swedish\n",
        "*   eng: English\n"
      ],
      "metadata": {
        "id": "46WYT3retbrH"
      }
    },
    {
      "cell_type": "markdown",
      "source": [
        "Here you can find the list of all languages supported by tesseract and the language codes to use:\n",
        "https://tesseract-ocr.github.io/tessdoc/Data-Files-in-different-versions.html"
      ],
      "metadata": {
        "id": "5xB_kJJIpEd3"
      }
    },
    {
      "cell_type": "markdown",
      "source": [
        "To download other language models, go to https://github.com/tesseract-ocr/tessdata (download as zip file)."
      ],
      "metadata": {
        "id": "stKNeARyvZvA"
      }
    },
    {
      "cell_type": "code",
      "execution_count": null,
      "metadata": {
        "id": "sjmKxbFUNjR_"
      },
      "outputs": [],
      "source": [
        "# Read an input image (check left panel for the image name)\n",
        "file = cv2.imread(\"/content/test_swe1.jpg\")"
      ]
    },
    {
      "cell_type": "code",
      "execution_count": null,
      "metadata": {
        "id": "b5sfRBukal4T"
      },
      "outputs": [],
      "source": [
        "#configure parameters for pytesseract\n",
        "custom_config = r'--oem 3 --psm 6'      #oem 3: Default; psm 6: Assume a single uniform block of text."
      ]
    },
    {
      "cell_type": "code",
      "execution_count": null,
      "metadata": {
        "id": "sJshvY4bansp"
      },
      "outputs": [],
      "source": [
        "# Pytesseract OCR - text file output\n",
        "result_txt = pytesseract.image_to_string(file, lang='swe', config=custom_config) "
      ]
    },
    {
      "cell_type": "markdown",
      "source": [
        "If you see \"KeyError: 'PNG'\", go to first cell and RESTART RUNTIME."
      ],
      "metadata": {
        "id": "YrB5KGWqz5I5"
      }
    },
    {
      "cell_type": "markdown",
      "source": [
        "Note: to run tesseract for other languages, pass the language code in \"lang\". For example, lang = 'ita' for Italian. "
      ],
      "metadata": {
        "id": "auHRVmrdv8eu"
      }
    },
    {
      "cell_type": "code",
      "execution_count": null,
      "metadata": {
        "colab": {
          "base_uri": "https://localhost:8080/"
        },
        "id": "dnz3TCgbWkJR",
        "outputId": "c41b9618-f9e4-44a5-a7a8-92f89da48c0c"
      },
      "outputs": [
        {
          "output_type": "stream",
          "name": "stdout",
          "text": [
            "Jubileumsfest:\n",
            "För att ge avdelningarna möjlighet fira förbundets\n",
            "50 åriga tillvaro anslog kongressen medel härför. ; d\n",
            "Vär avd. högtidlighöll minnet med en fest på Gillet\n",
            "den 8 deéc. Jubileumstalet höls av förbundsordf.\n",
            "Ivan Larsson samt medverkade, bland annat\n",
            "Uppsala Arbetaresångkör.\n",
            "Representation:\n",
            "Avd. har genom valda ombud eller styrelsen, varit repre-\n",
            "senterad å: Folkets Hus årsmöte,Folkets Parks årsmöte\n",
            "och extra möte,. Kvinnokommittén för ökad kvinnorepre- |\n",
            "sentations möte, vid avd. 68 kassör Britta Jonssons\n",
            "jordfästning, vid Ungdomsyrkeskonferensen i Uppsala,\n",
            "vid Folk och Försvarskonferensen i Uppsala, vid avd.68\n",
            "jubileumsfest, vid avtalskonferensen rörande avä.funk-\n",
            ", tionärerna , vid Uppsala Länskommitté för ,Finland: samman-\n",
            "träden, samt vid Uppsala P. C. O, =s möten.\n",
            "AE\n",
            "Avä. har beslutat att ansluta sig till2 Uppsalavdelningenav\n",
            "Arbetarnas Bilningsförbund, från den 1_jan. ESA40R\n",
            "Studiearbetet:\n",
            "Studiearbetet har, efter en intensifierad propaganda\n",
            "lämnat rätt gott resultat. Sålunda arbetade en cirkel\n",
            "i Svenska språket, 2 cirklar i Engelska, 2 i Gymnastik,\n",
            "_ några grupper i ämnet musik, dessutom slutfördes 1 cirkel\n",
            "i föreningskunskap, under vårterminen. En besöksserie\n",
            "till olika inestutioner, under rubriken_åää_gäggå_gåg\n",
            "egen stad,har påbörjats och samlat i genomsnit 50-60\n",
            "| deltagare.I en av A. B. F. arangerad kurs i Organsations-\n",
            "kunskap deltog 6 utsedda medlemmar.\n",
            "\f\n"
          ]
        }
      ],
      "source": [
        "print(result_txt)"
      ]
    },
    {
      "cell_type": "code",
      "execution_count": null,
      "metadata": {
        "id": "BiG4vcd_apYd"
      },
      "outputs": [],
      "source": [
        "# To create a searchable pdf, uncomment this block\n",
        "#result_pdf = pytesseract.image_to_pdf_or_hocr(file, lang='eng', config=custom_config) "
      ]
    },
    {
      "cell_type": "markdown",
      "source": [
        "Insights on the data:\n",
        "\n",
        "*   There are 3 Swedish documents from the 19th century written using an old typewriter.\n",
        "*    test_swe1.jpg is a good quality image.\n",
        "*    test_swe2.jpg is a poor quality image and OCR will be challenging.\n",
        "*    test_swe3.jpg consists of a photograph along with the text. Unfortunately, Tesseract does not perform well for the texts with photographs. Does cropping the text before using Tesseract improves the results?\n",
        "*    test_deu.png is obtained from OCR4ALL project, and written between 16-18th century in German.\n",
        "*    test_eng.png represents a sample text from Marian’s play written in Old English.\n",
        "*    test_fra.jpg is challenging as it also includes the book edges while scanning. Try the cropped version (test_fra_cropped.jpg) and observe if OCR results are better?\n",
        "*    test_ita.png was obtained from an old Italian book online. Also try the cropped version (test_ita_cropped.png) and observe if OCR results are\n",
        "better?\n"
      ],
      "metadata": {
        "id": "kMFrlOcHx1RB"
      }
    },
    {
      "cell_type": "markdown",
      "source": [
        "---"
      ],
      "metadata": {
        "id": "kgGGZJR50Hrz"
      }
    },
    {
      "cell_type": "markdown",
      "metadata": {
        "id": "02sLua1qanuQ"
      },
      "source": [
        "Did you notice that the OCR has errors and need post-processing? "
      ]
    },
    {
      "cell_type": "markdown",
      "metadata": {
        "id": "5xTAzcH6bR1j"
      },
      "source": [
        "This is a common challenge with heritage data and thanks to AI, we now have a solution - layout based OCR!"
      ]
    },
    {
      "cell_type": "markdown",
      "metadata": {
        "id": "6oA_XhTqa6TE"
      },
      "source": [
        "In the follow-up workshop, we will explore Deep Learning based Layout Detection which is performed before OCR and the results are much accurate. \n",
        "Here's the link to the Layout Parser: https://github.com/Layout-Parser/layout-parser\n",
        "\n"
      ]
    },
    {
      "cell_type": "markdown",
      "metadata": {
        "id": "noSEGXt8bKLM"
      },
      "source": [
        "Thank you!"
      ]
    }
  ],
  "metadata": {
    "colab": {
      "collapsed_sections": [],
      "provenance": []
    },
    "kernelspec": {
      "display_name": "Python 3",
      "name": "python3"
    },
    "language_info": {
      "name": "python"
    }
  },
  "nbformat": 4,
  "nbformat_minor": 0
}